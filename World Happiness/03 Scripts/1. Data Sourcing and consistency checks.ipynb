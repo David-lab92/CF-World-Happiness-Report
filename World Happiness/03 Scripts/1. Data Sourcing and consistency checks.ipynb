{
 "cells": [
  {
   "cell_type": "markdown",
   "id": "dab32017",
   "metadata": {},
   "source": [
    "# World Happiness Report from 2015-2022\n",
    "1. Import Libraries\n",
    "2. Importing data\n",
    "3. Shaping datasets for World Happiness Report from 2015-2022\n",
    "       3.1 Renaming column names and dropping missmatched columns\n",
    "       3.2 Merging individual datasets for happiness reports\n",
    "4. Data Quality check\n",
    "       4.1 Changing data types\n",
    "       4.2 Data Cleaning\n",
    "       4.3 Creating and checking variable 'Region'\n",
    "       4.4 Checking consistency of the data\n",
    "5.  Exporting data for World Happiness Report\n"
   ]
  },
  {
   "cell_type": "markdown",
   "id": "47de3fb7",
   "metadata": {},
   "source": [
    "### 1. Importing Libraries"
   ]
  },
  {
   "cell_type": "code",
   "execution_count": 1,
   "id": "ae9e3a4d",
   "metadata": {},
   "outputs": [],
   "source": [
    "import pandas as pd\n",
    "import numpy as np\n",
    "import os"
   ]
  },
  {
   "cell_type": "markdown",
   "id": "ad658ac8",
   "metadata": {},
   "source": [
    "### 2. Importing Data"
   ]
  },
  {
   "cell_type": "code",
   "execution_count": 2,
   "id": "8aefd995",
   "metadata": {},
   "outputs": [
    {
     "name": "stdout",
     "output_type": "stream",
     "text": [
      "C:\\Users\\mavid\\OneDrive - Universidad Nacional de Colombia\\Weiterbildung\\Exercises\\Data_Inmersion\\Achievement6\\World Happiness\n"
     ]
    }
   ],
   "source": [
    "#Creating a path for this project\n",
    "path = r'C:\\Users\\mavid\\OneDrive - Universidad Nacional de Colombia\\Weiterbildung\\Exercises\\Data_Inmersion\\Achievement6\\World Happiness'\n",
    "print(path)"
   ]
  },
  {
   "cell_type": "code",
   "execution_count": 3,
   "id": "fa1c4b37",
   "metadata": {},
   "outputs": [],
   "source": [
    "#Importing World Happiness reports from 2015-2022.csv to df via pandas.read_csv and os.path.join\n",
    "df_hap1= pd.read_csv(os.path.join(path, '02 Data', 'Original Data', '1. WorldHappiness2015.csv'),index_col = False, decimal=\",\")\n",
    "df_hap2= pd.read_csv(os.path.join(path, '02 Data', 'Original Data', '2. WorldHappiness2016.csv'),index_col = False, decimal=\",\")\n",
    "df_hap3= pd.read_csv(os.path.join(path, '02 Data', 'Original Data', '3. WorldHappiness2017.csv'),index_col = False, decimal=\",\")\n",
    "df_hap4= pd.read_csv(os.path.join(path, '02 Data', 'Original Data', '4. WorldHappiness2018.csv'),index_col = False, decimal=\",\")\n",
    "df_hap5= pd.read_csv(os.path.join(path, '02 Data', 'Original Data', '5. WorldHappiness2019.csv'),index_col = False, decimal=\",\")\n",
    "df_hap6= pd.read_csv(os.path.join(path, '02 Data', 'Original Data', '6. WorldHappiness2020.csv'),index_col = False, decimal=\",\")\n",
    "df_hap7= pd.read_csv(os.path.join(path, '02 Data', 'Original Data', '7. WorldHappiness2021.csv'),index_col = False, decimal=\",\")\n",
    "df_hap8= pd.read_csv(os.path.join(path, '02 Data', 'Original Data', '8. WorldHappiness2022.csv'),index_col = False, decimal=\",\")"
   ]
  },
  {
   "cell_type": "markdown",
   "id": "6c4d360f",
   "metadata": {},
   "source": [
    "### 3. Shaping datasets for World Happiness Report from 2015-2022"
   ]
  },
  {
   "cell_type": "code",
   "execution_count": 4,
   "id": "e3a8e4d8",
   "metadata": {},
   "outputs": [],
   "source": [
    "# Creating a new column in all individudal datasets with the year \n",
    "df_hap1['Year'] = '2015'\n",
    "df_hap2['Year'] = '2016'\n",
    "df_hap3['Year'] = '2017'\n",
    "df_hap4['Year'] = '2018'\n",
    "df_hap5['Year'] = '2019'\n",
    "df_hap6['Year'] = '2020'\n",
    "df_hap7['Year'] = '2021'\n",
    "df_hap8['Year'] = '2022'"
   ]
  },
  {
   "cell_type": "markdown",
   "id": "8537c7b6",
   "metadata": {},
   "source": [
    "#### 3.1 Renaming column names and dropping missmatched columns"
   ]
  },
  {
   "cell_type": "markdown",
   "id": "927f116c",
   "metadata": {},
   "source": [
    "#### Renaming df_hap1"
   ]
  },
  {
   "cell_type": "code",
   "execution_count": 5,
   "id": "36776666",
   "metadata": {},
   "outputs": [],
   "source": [
    "# Dropping extra columns\n",
    "df_hap1.drop(['Standard Error','Dystopia Residual','Region'], inplace=True, axis=1)"
   ]
  },
  {
   "cell_type": "code",
   "execution_count": 6,
   "id": "9f1967c5",
   "metadata": {},
   "outputs": [],
   "source": [
    "# call rename () method\n",
    "#Rename df_hap1 columns\n",
    "df_hap1.rename(columns={'Happiness Rank': 'Happiness_Rank',\n",
    "        'Happiness Score': 'Happiness_Score',\n",
    "        'Economy (GDP per Capita)': 'GDP_per_Capita',\n",
    "        'Family': 'Social_support',\n",
    "        'Health (Life Expectancy)': 'Life_Expectancy',\n",
    "        'Freedom': 'Freedom',\n",
    "        'Trust (Government Corruption)': 'Corruption',\n",
    "        'Generosity': 'Generosity',\n",
    "        'Dystopia Residual':'Dystopia_Residual'}, inplace=True)\n",
    " \n",
    "# print Data frame after rename columns\n",
    "#display(df_hap1)"
   ]
  },
  {
   "cell_type": "code",
   "execution_count": 7,
   "id": "4bc44aaa",
   "metadata": {
    "scrolled": true
   },
   "outputs": [
    {
     "data": {
      "text/plain": [
       "['Country',\n",
       " 'Happiness_Rank',\n",
       " 'Happiness_Score',\n",
       " 'GDP_per_Capita',\n",
       " 'Social_support',\n",
       " 'Life_Expectancy',\n",
       " 'Freedom',\n",
       " 'Corruption',\n",
       " 'Generosity',\n",
       " 'Year']"
      ]
     },
     "execution_count": 7,
     "metadata": {},
     "output_type": "execute_result"
    }
   ],
   "source": [
    "# Checking column names in df_hap1\n",
    "list(df_hap1.columns.values.tolist())"
   ]
  },
  {
   "cell_type": "markdown",
   "id": "a87c9821",
   "metadata": {},
   "source": [
    "#### Renaming df_hap2"
   ]
  },
  {
   "cell_type": "code",
   "execution_count": 8,
   "id": "2600481c",
   "metadata": {
    "scrolled": true
   },
   "outputs": [],
   "source": [
    "# Dropping extra columns\n",
    "df_hap2.drop(['Lower Confidence Interval','Upper Confidence Interval','Dystopia Residual','Region'], inplace=True, axis=1)"
   ]
  },
  {
   "cell_type": "code",
   "execution_count": 9,
   "id": "8bc0d9b7",
   "metadata": {
    "scrolled": true
   },
   "outputs": [],
   "source": [
    "# call rename () method\n",
    "#Rename df_hap2 columns\n",
    "df_hap2.rename(columns={'Happiness Rank': 'Happiness_Rank',\n",
    "        'Happiness Score': 'Happiness_Score',\n",
    "        'Economy (GDP per Capita)': 'GDP_per_Capita',\n",
    "        'Family': 'Social_support',\n",
    "        'Health (Life Expectancy)': 'Life_Expectancy',\n",
    "        'Freedom': 'Freedom',\n",
    "        'Trust (Government Corruption)': 'Corruption',\n",
    "        'Generosity': 'Generosity'}, inplace=True)\n",
    " \n",
    "# print Data frame after rename columns\n",
    "#display(df_hap2)"
   ]
  },
  {
   "cell_type": "code",
   "execution_count": 10,
   "id": "fbb630bf",
   "metadata": {},
   "outputs": [
    {
     "data": {
      "text/plain": [
       "['Country',\n",
       " 'Happiness_Rank',\n",
       " 'Happiness_Score',\n",
       " 'GDP_per_Capita',\n",
       " 'Social_support',\n",
       " 'Life_Expectancy',\n",
       " 'Freedom',\n",
       " 'Corruption',\n",
       " 'Generosity',\n",
       " 'Year']"
      ]
     },
     "execution_count": 10,
     "metadata": {},
     "output_type": "execute_result"
    }
   ],
   "source": [
    "# Checking column names in df_hap2\n",
    "list(df_hap2.columns.values.tolist())"
   ]
  },
  {
   "cell_type": "markdown",
   "id": "b35a60f5",
   "metadata": {},
   "source": [
    "#### Renaming df_hap3"
   ]
  },
  {
   "cell_type": "code",
   "execution_count": 11,
   "id": "bacbab41",
   "metadata": {},
   "outputs": [],
   "source": [
    "# Dropping extra columns\n",
    "df_hap3.drop(['Whisker.high','Whisker.low','Dystopia.Residual'], inplace=True, axis=1)"
   ]
  },
  {
   "cell_type": "code",
   "execution_count": 12,
   "id": "d79e1303",
   "metadata": {},
   "outputs": [],
   "source": [
    "# call rename () method\n",
    "#Rename df_hap3 columns\n",
    "df_hap3.rename(columns={'Happiness.Rank': 'Happiness_Rank',\n",
    "        'Happiness.Score': 'Happiness_Score',\n",
    "        'Economy..GDP.per.Capita.': 'GDP_per_Capita',\n",
    "        'Family': 'Social_support',\n",
    "        'Health..Life.Expectancy.': 'Life_Expectancy',\n",
    "        'Freedom': 'Freedom',\n",
    "        'Trust..Government.Corruption.': 'Corruption',\n",
    "        'Generosity': 'Generosity'}, inplace=True)\n",
    " \n",
    "# print Data frame after rename columns\n",
    "#display(df_hap3)"
   ]
  },
  {
   "cell_type": "code",
   "execution_count": 13,
   "id": "ca266420",
   "metadata": {},
   "outputs": [
    {
     "data": {
      "text/plain": [
       "['Country',\n",
       " 'Happiness_Rank',\n",
       " 'Happiness_Score',\n",
       " 'GDP_per_Capita',\n",
       " 'Social_support',\n",
       " 'Life_Expectancy',\n",
       " 'Freedom',\n",
       " 'Generosity',\n",
       " 'Corruption',\n",
       " 'Year']"
      ]
     },
     "execution_count": 13,
     "metadata": {},
     "output_type": "execute_result"
    }
   ],
   "source": [
    "# Checking column names in df_hap3\n",
    "list(df_hap3.columns.values.tolist())"
   ]
  },
  {
   "cell_type": "markdown",
   "id": "aac7952e",
   "metadata": {},
   "source": [
    "#### Renaming df_hap4"
   ]
  },
  {
   "cell_type": "code",
   "execution_count": 14,
   "id": "163ab9ec",
   "metadata": {},
   "outputs": [],
   "source": [
    "# call rename () method\n",
    "#Rename df_hap4 columns\n",
    "df_hap4.rename(columns={'Country or region': 'Country',\n",
    "        'Overall rank': 'Happiness_Rank',\n",
    "        'Score': 'Happiness_Score',\n",
    "        'GDP per capita': 'GDP_per_Capita',\n",
    "        'Social support': 'Social_support',\n",
    "        'Healthy life expectancy': 'Life_Expectancy',\n",
    "        'Freedom to make life choices': 'Freedom',\n",
    "        'Perceptions of corruption': 'Corruption'}, inplace=True)\n",
    " \n",
    "# print Data frame after rename columns\n",
    "#display(df_hap4)"
   ]
  },
  {
   "cell_type": "code",
   "execution_count": 15,
   "id": "dacfc168",
   "metadata": {
    "scrolled": true
   },
   "outputs": [
    {
     "data": {
      "text/plain": [
       "['Happiness_Rank',\n",
       " 'Country',\n",
       " 'Happiness_Score',\n",
       " 'GDP_per_Capita',\n",
       " 'Social_support',\n",
       " 'Life_Expectancy',\n",
       " 'Freedom',\n",
       " 'Generosity',\n",
       " 'Corruption',\n",
       " 'Year']"
      ]
     },
     "execution_count": 15,
     "metadata": {},
     "output_type": "execute_result"
    }
   ],
   "source": [
    "# Checking column names in df_hap4\n",
    "list(df_hap4.columns.values.tolist())"
   ]
  },
  {
   "cell_type": "code",
   "execution_count": 16,
   "id": "d1fa0a1e",
   "metadata": {},
   "outputs": [],
   "source": [
    "# Aligning columns positions\n",
    "df_hap4 = df_hap4.reindex(['Country','Happiness_Rank', 'Happiness_Score', 'GDP_per_Capita',\n",
    " 'Social_support', 'Life_Expectancy', 'Freedom', 'Generosity', 'Corruption', 'Year'], axis=1)"
   ]
  },
  {
   "cell_type": "markdown",
   "id": "994ff184",
   "metadata": {},
   "source": [
    "#### Renaming df_hap5"
   ]
  },
  {
   "cell_type": "code",
   "execution_count": 17,
   "id": "f47ac261",
   "metadata": {},
   "outputs": [],
   "source": [
    "# call rename () method\n",
    "#Rename df_hap5 columns\n",
    "df_hap5.rename(columns={'Country or region': 'Country',\n",
    "        'Overall rank': 'Happiness_Rank',\n",
    "        'Score': 'Happiness_Score',\n",
    "        'GDP per capita': 'GDP_per_Capita',\n",
    "        'Social support': 'Social_support',\n",
    "        'Healthy life expectancy': 'Life_Expectancy',\n",
    "        'Freedom to make life choices': 'Freedom',\n",
    "        'Perceptions of corruption': 'Corruption'}, inplace=True)\n",
    " \n",
    "# print Data frame after rename columns\n",
    "#display(df_hap5)"
   ]
  },
  {
   "cell_type": "code",
   "execution_count": 18,
   "id": "ebd22ea2",
   "metadata": {
    "scrolled": true
   },
   "outputs": [
    {
     "data": {
      "text/plain": [
       "['Happiness_Rank',\n",
       " 'Country',\n",
       " 'Happiness_Score',\n",
       " 'GDP_per_Capita',\n",
       " 'Social_support',\n",
       " 'Life_Expectancy',\n",
       " 'Freedom',\n",
       " 'Generosity',\n",
       " 'Corruption',\n",
       " 'Year']"
      ]
     },
     "execution_count": 18,
     "metadata": {},
     "output_type": "execute_result"
    }
   ],
   "source": [
    "# Checking column names in df_hap5\n",
    "list(df_hap5.columns.values.tolist())"
   ]
  },
  {
   "cell_type": "code",
   "execution_count": 19,
   "id": "bafd7aaa",
   "metadata": {},
   "outputs": [],
   "source": [
    "# aligning columns positions\n",
    "df_hap5 = df_hap5.reindex(['Country','Happiness_Rank', 'Happiness_Score', 'GDP_per_Capita',\n",
    " 'Social_support', 'Life_Expectancy', 'Freedom', 'Generosity', 'Corruption', 'Year'], axis=1)"
   ]
  },
  {
   "cell_type": "markdown",
   "id": "57b97124",
   "metadata": {},
   "source": [
    "#### Renaming df_hap6"
   ]
  },
  {
   "cell_type": "code",
   "execution_count": 20,
   "id": "ad9f8151",
   "metadata": {},
   "outputs": [],
   "source": [
    "# Dropping extra columns\n",
    "df_hap6.drop(['Standard error of ladder score','upperwhisker','lowerwhisker',\n",
    "             'Ladder score in Dystopia','Logged GDP per capita','Social support',\n",
    "             'Healthy life expectancy','Freedom to make life choices','Generosity',\n",
    "             'Perceptions of corruption','Dystopia + residual','Regional indicator'], inplace=True, axis=1)"
   ]
  },
  {
   "cell_type": "code",
   "execution_count": 21,
   "id": "36b29259",
   "metadata": {},
   "outputs": [],
   "source": [
    "# call rename () method\n",
    "#Rename df_hap6 columns\n",
    "df_hap6.rename(columns={'Country name': 'Country',                        \n",
    "        'Ladder score': 'Happiness_Score',\n",
    "        'Explained by: Log GDP per capita': 'GDP_per_Capita',\n",
    "        'Explained by: Social support': 'Social_support',\n",
    "        'Explained by: Healthy life expectancy': 'Life_Expectancy',\n",
    "        'Explained by: Freedom to make life choices': 'Freedom',\n",
    "        'Explained by: Generosity':'Generosity',\n",
    "        'Explained by: Perceptions of corruption': 'Corruption'}, inplace=True)\n",
    " \n",
    "# print Data frame after rename columns\n",
    "#display(df_hap6)"
   ]
  },
  {
   "cell_type": "code",
   "execution_count": 22,
   "id": "304142a8",
   "metadata": {},
   "outputs": [],
   "source": [
    "# Creating a rank column\n",
    "df_hap6['Happiness_Rank'] = np.arange(1,len(df_hap6)+1)"
   ]
  },
  {
   "cell_type": "code",
   "execution_count": 23,
   "id": "d815389c",
   "metadata": {},
   "outputs": [],
   "source": [
    "# aligning columns positions\n",
    "df_hap6 = df_hap6.reindex(['Country','Happiness_Rank', 'Happiness_Score', 'GDP_per_Capita',\n",
    " 'Social_support', 'Life_Expectancy', 'Freedom', 'Generosity', 'Corruption', 'Year'], axis=1)"
   ]
  },
  {
   "cell_type": "code",
   "execution_count": 24,
   "id": "aa57f8fa",
   "metadata": {},
   "outputs": [
    {
     "data": {
      "text/plain": [
       "['Country',\n",
       " 'Happiness_Rank',\n",
       " 'Happiness_Score',\n",
       " 'GDP_per_Capita',\n",
       " 'Social_support',\n",
       " 'Life_Expectancy',\n",
       " 'Freedom',\n",
       " 'Generosity',\n",
       " 'Corruption',\n",
       " 'Year']"
      ]
     },
     "execution_count": 24,
     "metadata": {},
     "output_type": "execute_result"
    }
   ],
   "source": [
    "# Checking column names in df_hap6\n",
    "list(df_hap6.columns.values.tolist())"
   ]
  },
  {
   "cell_type": "markdown",
   "id": "0d44b7f5",
   "metadata": {},
   "source": [
    "#### Renaming df_hap7"
   ]
  },
  {
   "cell_type": "code",
   "execution_count": 25,
   "id": "3d84305d",
   "metadata": {},
   "outputs": [],
   "source": [
    "# Dropping extra columns\n",
    "df_hap7.drop(['Standard error of ladder score','upperwhisker','lowerwhisker',\n",
    "             'Ladder score in Dystopia','Logged GDP per capita','Social support',\n",
    "             'Healthy life expectancy','Freedom to make life choices','Generosity',\n",
    "             'Perceptions of corruption','Dystopia + residual','Regional indicator'], inplace=True, axis=1)"
   ]
  },
  {
   "cell_type": "code",
   "execution_count": 26,
   "id": "1f868f09",
   "metadata": {},
   "outputs": [],
   "source": [
    "# call rename () method\n",
    "#Rename df_hap7 columns\n",
    "df_hap7.rename(columns={'Country name': 'Country',                       \n",
    "        'Ladder score': 'Happiness_Score',\n",
    "        'Explained by: Log GDP per capita': 'GDP_per_Capita',\n",
    "        'Explained by: Social support': 'Social_support',\n",
    "        'Explained by: Healthy life expectancy': 'Life_Expectancy',\n",
    "        'Explained by: Freedom to make life choices': 'Freedom',\n",
    "        'Explained by: Generosity':'Generosity',\n",
    "        'Explained by: Perceptions of corruption': 'Corruption'}, inplace=True)\n",
    " \n",
    "# print Data frame after rename columns\n",
    "#display(df_hap7)"
   ]
  },
  {
   "cell_type": "code",
   "execution_count": 27,
   "id": "0c41ef59",
   "metadata": {
    "scrolled": true
   },
   "outputs": [],
   "source": [
    "# Creating a rank column\n",
    "df_hap7['Happiness_Rank'] = np.arange(1,len(df_hap7)+1)"
   ]
  },
  {
   "cell_type": "code",
   "execution_count": 28,
   "id": "5d82a4d3",
   "metadata": {},
   "outputs": [],
   "source": [
    "# aligning columns positions\n",
    "df_hap7 = df_hap7.reindex(['Country','Happiness_Rank', 'Happiness_Score', 'GDP_per_Capita',\n",
    " 'Social_support', 'Life_Expectancy', 'Freedom', 'Generosity', 'Corruption', 'Year'], axis=1)"
   ]
  },
  {
   "cell_type": "code",
   "execution_count": 29,
   "id": "c07f0201",
   "metadata": {},
   "outputs": [
    {
     "data": {
      "text/plain": [
       "['Country',\n",
       " 'Happiness_Rank',\n",
       " 'Happiness_Score',\n",
       " 'GDP_per_Capita',\n",
       " 'Social_support',\n",
       " 'Life_Expectancy',\n",
       " 'Freedom',\n",
       " 'Generosity',\n",
       " 'Corruption',\n",
       " 'Year']"
      ]
     },
     "execution_count": 29,
     "metadata": {},
     "output_type": "execute_result"
    }
   ],
   "source": [
    "# Checking column names in df_hap7\n",
    "list(df_hap7.columns.values.tolist())"
   ]
  },
  {
   "cell_type": "markdown",
   "id": "b0d7ad80",
   "metadata": {},
   "source": [
    "#### Renaming df_hap8"
   ]
  },
  {
   "cell_type": "code",
   "execution_count": 30,
   "id": "f09d3f1b",
   "metadata": {},
   "outputs": [],
   "source": [
    "# Dropping extra columns\n",
    "df_hap8.drop(['Whisker-high','Whisker-low','Dystopia (1.83) + residual'], inplace=True, axis=1)"
   ]
  },
  {
   "cell_type": "code",
   "execution_count": 31,
   "id": "2fef2580",
   "metadata": {},
   "outputs": [],
   "source": [
    "# call rename () method\n",
    "#Rename df_hap8 columns\n",
    "df_hap8.rename(columns={'RANK': 'Happiness_Rank','Happiness score': 'Happiness_Score',\n",
    "        'Explained by: GDP per capita': 'GDP_per_Capita',\n",
    "        'Explained by: Social support': 'Social_support',\n",
    "        'Explained by: Healthy life expectancy': 'Life_Expectancy',\n",
    "        'Explained by: Freedom to make life choices': 'Freedom',\n",
    "        'Explained by: Generosity':'Generosity',\n",
    "        'Explained by: Perceptions of corruption': 'Corruption'}, inplace=True)\n",
    " \n",
    "# print Data frame after rename columns\n",
    "#display(df_hap8)"
   ]
  },
  {
   "cell_type": "code",
   "execution_count": 32,
   "id": "5c804dc5",
   "metadata": {},
   "outputs": [],
   "source": [
    "# aligning columns positions\n",
    "df_hap8 = df_hap8.reindex(['Country','Happiness_Rank', 'Happiness_Score', 'GDP_per_Capita',\n",
    " 'Social_support', 'Life_Expectancy', 'Freedom', 'Generosity', 'Corruption', 'Year'], axis=1)"
   ]
  },
  {
   "cell_type": "code",
   "execution_count": 33,
   "id": "221e9b99",
   "metadata": {},
   "outputs": [
    {
     "data": {
      "text/plain": [
       "['Country',\n",
       " 'Happiness_Rank',\n",
       " 'Happiness_Score',\n",
       " 'GDP_per_Capita',\n",
       " 'Social_support',\n",
       " 'Life_Expectancy',\n",
       " 'Freedom',\n",
       " 'Generosity',\n",
       " 'Corruption',\n",
       " 'Year']"
      ]
     },
     "execution_count": 33,
     "metadata": {},
     "output_type": "execute_result"
    }
   ],
   "source": [
    "# Checking column names in df_hap8\n",
    "list(df_hap8.columns.values.tolist())"
   ]
  },
  {
   "cell_type": "markdown",
   "id": "02ce358f",
   "metadata": {},
   "source": [
    "#### 3.2 Merging individual datasets for happiness reports"
   ]
  },
  {
   "cell_type": "code",
   "execution_count": 34,
   "id": "86fbca64",
   "metadata": {},
   "outputs": [],
   "source": [
    "#Merging datasets\n",
    "df_worhap = pd.concat([df_hap1, df_hap2, df_hap3, df_hap4, df_hap5, df_hap6, df_hap7, df_hap8], axis=\"rows\", join=\"inner\")"
   ]
  },
  {
   "cell_type": "code",
   "execution_count": 35,
   "id": "468cdf3a",
   "metadata": {},
   "outputs": [],
   "source": [
    "# aligning columns positions\n",
    "df_worhap = df_worhap.reindex(['Country','Year','Happiness_Rank', 'Happiness_Score', 'GDP_per_Capita',\n",
    " 'Social_support', 'Life_Expectancy', 'Freedom', 'Generosity', 'Corruption'], axis=1)"
   ]
  },
  {
   "cell_type": "code",
   "execution_count": 36,
   "id": "a4793688",
   "metadata": {},
   "outputs": [
    {
     "data": {
      "text/plain": [
       "(1231, 10)"
      ]
     },
     "execution_count": 36,
     "metadata": {},
     "output_type": "execute_result"
    }
   ],
   "source": [
    "df_worhap.shape"
   ]
  },
  {
   "cell_type": "markdown",
   "id": "445e041f",
   "metadata": {},
   "source": [
    " ### 4. Data Quality check"
   ]
  },
  {
   "cell_type": "markdown",
   "id": "feb1b895",
   "metadata": {},
   "source": [
    "#### 4.1 Changing data types"
   ]
  },
  {
   "cell_type": "code",
   "execution_count": 37,
   "id": "7b90cbf9",
   "metadata": {
    "scrolled": true
   },
   "outputs": [
    {
     "name": "stdout",
     "output_type": "stream",
     "text": [
      "<class 'pandas.core.frame.DataFrame'>\n",
      "Int64Index: 1231 entries, 0 to 146\n",
      "Data columns (total 10 columns):\n",
      " #   Column           Non-Null Count  Dtype \n",
      "---  ------           --------------  ----- \n",
      " 0   Country          1231 non-null   object\n",
      " 1   Year             1231 non-null   object\n",
      " 2   Happiness_Rank   1231 non-null   int64 \n",
      " 3   Happiness_Score  1230 non-null   object\n",
      " 4   GDP_per_Capita   1230 non-null   object\n",
      " 5   Social_support   1230 non-null   object\n",
      " 6   Life_Expectancy  1230 non-null   object\n",
      " 7   Freedom          1230 non-null   object\n",
      " 8   Generosity       1230 non-null   object\n",
      " 9   Corruption       1229 non-null   object\n",
      "dtypes: int64(1), object(9)\n",
      "memory usage: 105.8+ KB\n"
     ]
    }
   ],
   "source": [
    "#information about the dataset\n",
    "df_worhap.info()"
   ]
  },
  {
   "cell_type": "code",
   "execution_count": 38,
   "id": "9ea3b598",
   "metadata": {},
   "outputs": [
    {
     "data": {
      "text/plain": [
       "dtype('int64')"
      ]
     },
     "execution_count": 38,
     "metadata": {},
     "output_type": "execute_result"
    }
   ],
   "source": [
    "#Changing a variable's data type 'Year'\n",
    "df_worhap['Year'] = df_worhap['Year'].astype('int64')\n",
    "df_worhap['Happiness_Rank'].dtype"
   ]
  },
  {
   "cell_type": "code",
   "execution_count": 39,
   "id": "602619ee",
   "metadata": {},
   "outputs": [
    {
     "data": {
      "text/plain": [
       "dtype('float64')"
      ]
     },
     "execution_count": 39,
     "metadata": {},
     "output_type": "execute_result"
    }
   ],
   "source": [
    "#Changing a variable's data type 'Happiness_Score'\n",
    "df_worhap['Happiness_Score'] = df_worhap['Happiness_Score'].astype('float')\n",
    "df_worhap['Happiness_Score'].dtype"
   ]
  },
  {
   "cell_type": "code",
   "execution_count": 40,
   "id": "b3f479aa",
   "metadata": {},
   "outputs": [
    {
     "data": {
      "text/plain": [
       "dtype('float64')"
      ]
     },
     "execution_count": 40,
     "metadata": {},
     "output_type": "execute_result"
    }
   ],
   "source": [
    "#Changing a variable's data type 'GDP_per_Capita'\n",
    "df_worhap['GDP_per_Capita'] = df_worhap['GDP_per_Capita'].astype('float')\n",
    "df_worhap['GDP_per_Capita'].dtype"
   ]
  },
  {
   "cell_type": "code",
   "execution_count": 41,
   "id": "2fed05d6",
   "metadata": {},
   "outputs": [
    {
     "data": {
      "text/plain": [
       "dtype('float64')"
      ]
     },
     "execution_count": 41,
     "metadata": {},
     "output_type": "execute_result"
    }
   ],
   "source": [
    "#Changing a variable's data type 'Social_support'\n",
    "df_worhap['Social_support'] = df_worhap['Social_support'].astype('float')\n",
    "df_worhap['Social_support'].dtype"
   ]
  },
  {
   "cell_type": "code",
   "execution_count": 42,
   "id": "6cbc81b2",
   "metadata": {},
   "outputs": [
    {
     "data": {
      "text/plain": [
       "dtype('float64')"
      ]
     },
     "execution_count": 42,
     "metadata": {},
     "output_type": "execute_result"
    }
   ],
   "source": [
    "#Changing a variable's data type 'Life_Expectancy'\n",
    "df_worhap['Life_Expectancy'] = df_worhap['Life_Expectancy'].astype('float')\n",
    "df_worhap['Life_Expectancy'].dtype"
   ]
  },
  {
   "cell_type": "code",
   "execution_count": 43,
   "id": "91eec55f",
   "metadata": {},
   "outputs": [
    {
     "data": {
      "text/plain": [
       "dtype('float64')"
      ]
     },
     "execution_count": 43,
     "metadata": {},
     "output_type": "execute_result"
    }
   ],
   "source": [
    "#Changing a variable's data type 'Freedom'\n",
    "df_worhap['Freedom'] = df_worhap['Freedom'].astype('float')\n",
    "df_worhap['Freedom'].dtype"
   ]
  },
  {
   "cell_type": "code",
   "execution_count": 44,
   "id": "35b73658",
   "metadata": {},
   "outputs": [
    {
     "data": {
      "text/plain": [
       "dtype('float64')"
      ]
     },
     "execution_count": 44,
     "metadata": {},
     "output_type": "execute_result"
    }
   ],
   "source": [
    "#Changing a variable's data type 'Generosity'\n",
    "df_worhap['Generosity'] = df_worhap['Generosity'].astype('float')\n",
    "df_worhap['Generosity'].dtype"
   ]
  },
  {
   "cell_type": "code",
   "execution_count": 45,
   "id": "ff4aaa21",
   "metadata": {},
   "outputs": [
    {
     "data": {
      "text/plain": [
       "dtype('float64')"
      ]
     },
     "execution_count": 45,
     "metadata": {},
     "output_type": "execute_result"
    }
   ],
   "source": [
    "#Changing a variable's data type 'Corruption'\n",
    "df_worhap['Corruption'] = df_worhap['Corruption'].astype('float')\n",
    "df_worhap['Corruption'].dtype"
   ]
  },
  {
   "cell_type": "code",
   "execution_count": 46,
   "id": "4a170a3b",
   "metadata": {},
   "outputs": [
    {
     "name": "stdout",
     "output_type": "stream",
     "text": [
      "<class 'pandas.core.frame.DataFrame'>\n",
      "Int64Index: 1231 entries, 0 to 146\n",
      "Data columns (total 10 columns):\n",
      " #   Column           Non-Null Count  Dtype  \n",
      "---  ------           --------------  -----  \n",
      " 0   Country          1231 non-null   object \n",
      " 1   Year             1231 non-null   int64  \n",
      " 2   Happiness_Rank   1231 non-null   int64  \n",
      " 3   Happiness_Score  1230 non-null   float64\n",
      " 4   GDP_per_Capita   1230 non-null   float64\n",
      " 5   Social_support   1230 non-null   float64\n",
      " 6   Life_Expectancy  1230 non-null   float64\n",
      " 7   Freedom          1230 non-null   float64\n",
      " 8   Generosity       1230 non-null   float64\n",
      " 9   Corruption       1229 non-null   float64\n",
      "dtypes: float64(7), int64(2), object(1)\n",
      "memory usage: 105.8+ KB\n"
     ]
    }
   ],
   "source": [
    "# Checking dataset after modifications\n",
    "df_worhap.info()"
   ]
  },
  {
   "cell_type": "markdown",
   "id": "66e72e90",
   "metadata": {},
   "source": [
    "#### 4.2 Data Cleaning"
   ]
  },
  {
   "cell_type": "code",
   "execution_count": 47,
   "id": "80d53b13",
   "metadata": {},
   "outputs": [
    {
     "data": {
      "text/html": [
       "<div>\n",
       "<style scoped>\n",
       "    .dataframe tbody tr th:only-of-type {\n",
       "        vertical-align: middle;\n",
       "    }\n",
       "\n",
       "    .dataframe tbody tr th {\n",
       "        vertical-align: top;\n",
       "    }\n",
       "\n",
       "    .dataframe thead th {\n",
       "        text-align: right;\n",
       "    }\n",
       "</style>\n",
       "<table border=\"1\" class=\"dataframe\">\n",
       "  <thead>\n",
       "    <tr style=\"text-align: right;\">\n",
       "      <th></th>\n",
       "      <th>Country</th>\n",
       "      <th>Year</th>\n",
       "      <th>Happiness_Rank</th>\n",
       "      <th>Happiness_Score</th>\n",
       "      <th>GDP_per_Capita</th>\n",
       "      <th>Social_support</th>\n",
       "      <th>Life_Expectancy</th>\n",
       "      <th>Freedom</th>\n",
       "      <th>Generosity</th>\n",
       "      <th>Corruption</th>\n",
       "    </tr>\n",
       "  </thead>\n",
       "  <tbody>\n",
       "    <tr>\n",
       "      <th>142</th>\n",
       "      <td>Rwanda*</td>\n",
       "      <td>2022</td>\n",
       "      <td>143</td>\n",
       "      <td>3.268</td>\n",
       "      <td>0.785</td>\n",
       "      <td>0.133</td>\n",
       "      <td>0.462</td>\n",
       "      <td>0.621</td>\n",
       "      <td>0.187</td>\n",
       "      <td>0.544</td>\n",
       "    </tr>\n",
       "    <tr>\n",
       "      <th>143</th>\n",
       "      <td>Zimbabwe</td>\n",
       "      <td>2022</td>\n",
       "      <td>144</td>\n",
       "      <td>2.995</td>\n",
       "      <td>0.947</td>\n",
       "      <td>0.690</td>\n",
       "      <td>0.270</td>\n",
       "      <td>0.329</td>\n",
       "      <td>0.106</td>\n",
       "      <td>0.105</td>\n",
       "    </tr>\n",
       "    <tr>\n",
       "      <th>144</th>\n",
       "      <td>Lebanon</td>\n",
       "      <td>2022</td>\n",
       "      <td>145</td>\n",
       "      <td>2.955</td>\n",
       "      <td>1.392</td>\n",
       "      <td>0.498</td>\n",
       "      <td>0.631</td>\n",
       "      <td>0.103</td>\n",
       "      <td>0.082</td>\n",
       "      <td>0.034</td>\n",
       "    </tr>\n",
       "    <tr>\n",
       "      <th>145</th>\n",
       "      <td>Afghanistan</td>\n",
       "      <td>2022</td>\n",
       "      <td>146</td>\n",
       "      <td>2.404</td>\n",
       "      <td>0.758</td>\n",
       "      <td>0.000</td>\n",
       "      <td>0.289</td>\n",
       "      <td>0.000</td>\n",
       "      <td>0.089</td>\n",
       "      <td>0.005</td>\n",
       "    </tr>\n",
       "    <tr>\n",
       "      <th>146</th>\n",
       "      <td>xx</td>\n",
       "      <td>2022</td>\n",
       "      <td>147</td>\n",
       "      <td>NaN</td>\n",
       "      <td>NaN</td>\n",
       "      <td>NaN</td>\n",
       "      <td>NaN</td>\n",
       "      <td>NaN</td>\n",
       "      <td>NaN</td>\n",
       "      <td>NaN</td>\n",
       "    </tr>\n",
       "  </tbody>\n",
       "</table>\n",
       "</div>"
      ],
      "text/plain": [
       "         Country  Year  Happiness_Rank  Happiness_Score  GDP_per_Capita  \\\n",
       "142      Rwanda*  2022             143            3.268           0.785   \n",
       "143     Zimbabwe  2022             144            2.995           0.947   \n",
       "144      Lebanon  2022             145            2.955           1.392   \n",
       "145  Afghanistan  2022             146            2.404           0.758   \n",
       "146           xx  2022             147              NaN             NaN   \n",
       "\n",
       "     Social_support  Life_Expectancy  Freedom  Generosity  Corruption  \n",
       "142           0.133            0.462    0.621       0.187       0.544  \n",
       "143           0.690            0.270    0.329       0.106       0.105  \n",
       "144           0.498            0.631    0.103       0.082       0.034  \n",
       "145           0.000            0.289    0.000       0.089       0.005  \n",
       "146             NaN              NaN      NaN         NaN         NaN  "
      ]
     },
     "execution_count": 47,
     "metadata": {},
     "output_type": "execute_result"
    }
   ],
   "source": [
    "# Finding empty row\n",
    "df_worhap.tail()"
   ]
  },
  {
   "cell_type": "code",
   "execution_count": 48,
   "id": "28b6c0cc",
   "metadata": {},
   "outputs": [],
   "source": [
    "# Removing empty row\n",
    "df_worhap = df_worhap[:-1]"
   ]
  },
  {
   "cell_type": "code",
   "execution_count": 49,
   "id": "d7efe113",
   "metadata": {},
   "outputs": [
    {
     "data": {
      "text/html": [
       "<div>\n",
       "<style scoped>\n",
       "    .dataframe tbody tr th:only-of-type {\n",
       "        vertical-align: middle;\n",
       "    }\n",
       "\n",
       "    .dataframe tbody tr th {\n",
       "        vertical-align: top;\n",
       "    }\n",
       "\n",
       "    .dataframe thead th {\n",
       "        text-align: right;\n",
       "    }\n",
       "</style>\n",
       "<table border=\"1\" class=\"dataframe\">\n",
       "  <thead>\n",
       "    <tr style=\"text-align: right;\">\n",
       "      <th></th>\n",
       "      <th>Country</th>\n",
       "      <th>Year</th>\n",
       "      <th>Happiness_Rank</th>\n",
       "      <th>Happiness_Score</th>\n",
       "      <th>GDP_per_Capita</th>\n",
       "      <th>Social_support</th>\n",
       "      <th>Life_Expectancy</th>\n",
       "      <th>Freedom</th>\n",
       "      <th>Generosity</th>\n",
       "      <th>Corruption</th>\n",
       "    </tr>\n",
       "  </thead>\n",
       "  <tbody>\n",
       "    <tr>\n",
       "      <th>141</th>\n",
       "      <td>Botswana*</td>\n",
       "      <td>2022</td>\n",
       "      <td>142</td>\n",
       "      <td>3.471</td>\n",
       "      <td>1.503</td>\n",
       "      <td>0.815</td>\n",
       "      <td>0.280</td>\n",
       "      <td>0.571</td>\n",
       "      <td>0.012</td>\n",
       "      <td>0.102</td>\n",
       "    </tr>\n",
       "    <tr>\n",
       "      <th>142</th>\n",
       "      <td>Rwanda*</td>\n",
       "      <td>2022</td>\n",
       "      <td>143</td>\n",
       "      <td>3.268</td>\n",
       "      <td>0.785</td>\n",
       "      <td>0.133</td>\n",
       "      <td>0.462</td>\n",
       "      <td>0.621</td>\n",
       "      <td>0.187</td>\n",
       "      <td>0.544</td>\n",
       "    </tr>\n",
       "    <tr>\n",
       "      <th>143</th>\n",
       "      <td>Zimbabwe</td>\n",
       "      <td>2022</td>\n",
       "      <td>144</td>\n",
       "      <td>2.995</td>\n",
       "      <td>0.947</td>\n",
       "      <td>0.690</td>\n",
       "      <td>0.270</td>\n",
       "      <td>0.329</td>\n",
       "      <td>0.106</td>\n",
       "      <td>0.105</td>\n",
       "    </tr>\n",
       "    <tr>\n",
       "      <th>144</th>\n",
       "      <td>Lebanon</td>\n",
       "      <td>2022</td>\n",
       "      <td>145</td>\n",
       "      <td>2.955</td>\n",
       "      <td>1.392</td>\n",
       "      <td>0.498</td>\n",
       "      <td>0.631</td>\n",
       "      <td>0.103</td>\n",
       "      <td>0.082</td>\n",
       "      <td>0.034</td>\n",
       "    </tr>\n",
       "    <tr>\n",
       "      <th>145</th>\n",
       "      <td>Afghanistan</td>\n",
       "      <td>2022</td>\n",
       "      <td>146</td>\n",
       "      <td>2.404</td>\n",
       "      <td>0.758</td>\n",
       "      <td>0.000</td>\n",
       "      <td>0.289</td>\n",
       "      <td>0.000</td>\n",
       "      <td>0.089</td>\n",
       "      <td>0.005</td>\n",
       "    </tr>\n",
       "  </tbody>\n",
       "</table>\n",
       "</div>"
      ],
      "text/plain": [
       "         Country  Year  Happiness_Rank  Happiness_Score  GDP_per_Capita  \\\n",
       "141    Botswana*  2022             142            3.471           1.503   \n",
       "142      Rwanda*  2022             143            3.268           0.785   \n",
       "143     Zimbabwe  2022             144            2.995           0.947   \n",
       "144      Lebanon  2022             145            2.955           1.392   \n",
       "145  Afghanistan  2022             146            2.404           0.758   \n",
       "\n",
       "     Social_support  Life_Expectancy  Freedom  Generosity  Corruption  \n",
       "141           0.815            0.280    0.571       0.012       0.102  \n",
       "142           0.133            0.462    0.621       0.187       0.544  \n",
       "143           0.690            0.270    0.329       0.106       0.105  \n",
       "144           0.498            0.631    0.103       0.082       0.034  \n",
       "145           0.000            0.289    0.000       0.089       0.005  "
      ]
     },
     "execution_count": 49,
     "metadata": {},
     "output_type": "execute_result"
    }
   ],
   "source": [
    "df_worhap.tail()"
   ]
  },
  {
   "cell_type": "code",
   "execution_count": 50,
   "id": "9840733d",
   "metadata": {},
   "outputs": [],
   "source": [
    "# Reseting index column after merging\n",
    "df_worhap = df_worhap.reset_index(drop=True)"
   ]
  },
  {
   "cell_type": "code",
   "execution_count": 51,
   "id": "6a2f66ef",
   "metadata": {},
   "outputs": [
    {
     "data": {
      "text/html": [
       "<div>\n",
       "<style scoped>\n",
       "    .dataframe tbody tr th:only-of-type {\n",
       "        vertical-align: middle;\n",
       "    }\n",
       "\n",
       "    .dataframe tbody tr th {\n",
       "        vertical-align: top;\n",
       "    }\n",
       "\n",
       "    .dataframe thead th {\n",
       "        text-align: right;\n",
       "    }\n",
       "</style>\n",
       "<table border=\"1\" class=\"dataframe\">\n",
       "  <thead>\n",
       "    <tr style=\"text-align: right;\">\n",
       "      <th></th>\n",
       "      <th>Country</th>\n",
       "      <th>Year</th>\n",
       "      <th>Happiness_Rank</th>\n",
       "      <th>Happiness_Score</th>\n",
       "      <th>GDP_per_Capita</th>\n",
       "      <th>Social_support</th>\n",
       "      <th>Life_Expectancy</th>\n",
       "      <th>Freedom</th>\n",
       "      <th>Generosity</th>\n",
       "      <th>Corruption</th>\n",
       "    </tr>\n",
       "  </thead>\n",
       "  <tbody>\n",
       "    <tr>\n",
       "      <th>1225</th>\n",
       "      <td>Botswana*</td>\n",
       "      <td>2022</td>\n",
       "      <td>142</td>\n",
       "      <td>3.471</td>\n",
       "      <td>1.503</td>\n",
       "      <td>0.815</td>\n",
       "      <td>0.280</td>\n",
       "      <td>0.571</td>\n",
       "      <td>0.012</td>\n",
       "      <td>0.102</td>\n",
       "    </tr>\n",
       "    <tr>\n",
       "      <th>1226</th>\n",
       "      <td>Rwanda*</td>\n",
       "      <td>2022</td>\n",
       "      <td>143</td>\n",
       "      <td>3.268</td>\n",
       "      <td>0.785</td>\n",
       "      <td>0.133</td>\n",
       "      <td>0.462</td>\n",
       "      <td>0.621</td>\n",
       "      <td>0.187</td>\n",
       "      <td>0.544</td>\n",
       "    </tr>\n",
       "    <tr>\n",
       "      <th>1227</th>\n",
       "      <td>Zimbabwe</td>\n",
       "      <td>2022</td>\n",
       "      <td>144</td>\n",
       "      <td>2.995</td>\n",
       "      <td>0.947</td>\n",
       "      <td>0.690</td>\n",
       "      <td>0.270</td>\n",
       "      <td>0.329</td>\n",
       "      <td>0.106</td>\n",
       "      <td>0.105</td>\n",
       "    </tr>\n",
       "    <tr>\n",
       "      <th>1228</th>\n",
       "      <td>Lebanon</td>\n",
       "      <td>2022</td>\n",
       "      <td>145</td>\n",
       "      <td>2.955</td>\n",
       "      <td>1.392</td>\n",
       "      <td>0.498</td>\n",
       "      <td>0.631</td>\n",
       "      <td>0.103</td>\n",
       "      <td>0.082</td>\n",
       "      <td>0.034</td>\n",
       "    </tr>\n",
       "    <tr>\n",
       "      <th>1229</th>\n",
       "      <td>Afghanistan</td>\n",
       "      <td>2022</td>\n",
       "      <td>146</td>\n",
       "      <td>2.404</td>\n",
       "      <td>0.758</td>\n",
       "      <td>0.000</td>\n",
       "      <td>0.289</td>\n",
       "      <td>0.000</td>\n",
       "      <td>0.089</td>\n",
       "      <td>0.005</td>\n",
       "    </tr>\n",
       "  </tbody>\n",
       "</table>\n",
       "</div>"
      ],
      "text/plain": [
       "          Country  Year  Happiness_Rank  Happiness_Score  GDP_per_Capita  \\\n",
       "1225    Botswana*  2022             142            3.471           1.503   \n",
       "1226      Rwanda*  2022             143            3.268           0.785   \n",
       "1227     Zimbabwe  2022             144            2.995           0.947   \n",
       "1228      Lebanon  2022             145            2.955           1.392   \n",
       "1229  Afghanistan  2022             146            2.404           0.758   \n",
       "\n",
       "      Social_support  Life_Expectancy  Freedom  Generosity  Corruption  \n",
       "1225           0.815            0.280    0.571       0.012       0.102  \n",
       "1226           0.133            0.462    0.621       0.187       0.544  \n",
       "1227           0.690            0.270    0.329       0.106       0.105  \n",
       "1228           0.498            0.631    0.103       0.082       0.034  \n",
       "1229           0.000            0.289    0.000       0.089       0.005  "
      ]
     },
     "execution_count": 51,
     "metadata": {},
     "output_type": "execute_result"
    }
   ],
   "source": [
    "df_worhap.tail()"
   ]
  },
  {
   "cell_type": "code",
   "execution_count": 52,
   "id": "5d706cb7",
   "metadata": {},
   "outputs": [],
   "source": [
    "# Replacing symbols in the variable country\n",
    "df_worhap['Country']= df_worhap['Country'].str.replace('*', '', regex=True)"
   ]
  },
  {
   "cell_type": "code",
   "execution_count": 53,
   "id": "a6b25696",
   "metadata": {
    "scrolled": false
   },
   "outputs": [],
   "source": [
    "# Replacing incorrect country names\n",
    "df_worhap['Country'] = df_worhap['Country'].replace({'Hong Kong S.A.R., China': 'Hong Kong', 'Trinidad & Tobago': 'Trinidad and Tobago', \n",
    "                      'Hong Kong S.A.R. of China': 'Hong Kong', 'Czechia': 'Czech Republic','Eswatini, Kingdom of':'Eswatini',\n",
    "                                   'North Macedonia':'Macedonia','North Cyprus':'Cyprus', 'Northern Cyprus':'Cyprus','Taiwan Province of China':'Taiwan',\n",
    "                                    'South Sudan':'Sudan','Somaliland Region':'Somaliland','Somaliland region':'Somaliland', 'Congo':'Congo (Kinshasa)'})"
   ]
  },
  {
   "cell_type": "code",
   "execution_count": 54,
   "id": "952317d1",
   "metadata": {
    "scrolled": false
   },
   "outputs": [
    {
     "name": "stdout",
     "output_type": "stream",
     "text": [
      "['Switzerland' 'Iceland' 'Denmark' 'Norway' 'Canada' 'Finland'\n",
      " 'Netherlands' 'Sweden' 'New Zealand' 'Australia' 'Israel' 'Costa Rica'\n",
      " 'Austria' 'Mexico' 'United States' 'Brazil' 'Luxembourg' 'Ireland'\n",
      " 'Belgium' 'United Arab Emirates' 'United Kingdom' 'Oman' 'Venezuela'\n",
      " 'Singapore' 'Panama' 'Germany' 'Chile' 'Qatar' 'France' 'Argentina'\n",
      " 'Czech Republic' 'Uruguay' 'Colombia' 'Thailand' 'Saudi Arabia' 'Spain'\n",
      " 'Malta' 'Taiwan' 'Kuwait' 'Suriname' 'Trinidad and Tobago' 'El Salvador'\n",
      " 'Guatemala' 'Uzbekistan' 'Slovakia' 'Japan' 'South Korea' 'Ecuador'\n",
      " 'Bahrain' 'Italy' 'Bolivia' 'Moldova' 'Paraguay' 'Kazakhstan' 'Slovenia'\n",
      " 'Lithuania' 'Nicaragua' 'Peru' 'Belarus' 'Poland' 'Malaysia' 'Croatia'\n",
      " 'Libya' 'Russia' 'Jamaica' 'Cyprus' 'Algeria' 'Kosovo' 'Turkmenistan'\n",
      " 'Mauritius' 'Hong Kong' 'Estonia' 'Indonesia' 'Vietnam' 'Turkey'\n",
      " 'Kyrgyzstan' 'Nigeria' 'Bhutan' 'Azerbaijan' 'Pakistan' 'Jordan'\n",
      " 'Montenegro' 'China' 'Zambia' 'Romania' 'Serbia' 'Portugal' 'Latvia'\n",
      " 'Philippines' 'Somaliland' 'Morocco' 'Macedonia' 'Mozambique' 'Albania'\n",
      " 'Bosnia and Herzegovina' 'Lesotho' 'Dominican Republic' 'Laos' 'Mongolia'\n",
      " 'Swaziland' 'Greece' 'Lebanon' 'Hungary' 'Honduras' 'Tajikistan'\n",
      " 'Tunisia' 'Palestinian Territories' 'Bangladesh' 'Iran' 'Ukraine' 'Iraq'\n",
      " 'South Africa' 'Ghana' 'Zimbabwe' 'Liberia' 'India' 'Sudan' 'Haiti'\n",
      " 'Congo (Kinshasa)' 'Nepal' 'Ethiopia' 'Sierra Leone' 'Mauritania' 'Kenya'\n",
      " 'Djibouti' 'Armenia' 'Botswana' 'Myanmar' 'Georgia' 'Malawi' 'Sri Lanka'\n",
      " 'Cameroon' 'Bulgaria' 'Egypt' 'Yemen' 'Angola' 'Mali'\n",
      " 'Congo (Brazzaville)' 'Comoros' 'Uganda' 'Senegal' 'Gabon' 'Niger'\n",
      " 'Cambodia' 'Tanzania' 'Madagascar' 'Central African Republic' 'Chad'\n",
      " 'Guinea' 'Ivory Coast' 'Burkina Faso' 'Afghanistan' 'Rwanda' 'Benin'\n",
      " 'Syria' 'Burundi' 'Togo' 'Puerto Rico' 'Belize' 'Somalia' 'Namibia'\n",
      " 'Gambia' 'Maldives' 'Eswatini']\n"
     ]
    }
   ],
   "source": [
    "# Checking unique values\n",
    "print(df_worhap[\"Country\"].unique())"
   ]
  },
  {
   "cell_type": "code",
   "execution_count": 55,
   "id": "2985e7aa",
   "metadata": {
    "scrolled": true
   },
   "outputs": [
    {
     "data": {
      "text/plain": [
       "164"
      ]
     },
     "execution_count": 55,
     "metadata": {},
     "output_type": "execute_result"
    }
   ],
   "source": [
    "# Checking length of unique values\n",
    "len(df_worhap['Country'].unique())"
   ]
  },
  {
   "cell_type": "markdown",
   "id": "3f2dc6e0",
   "metadata": {},
   "source": [
    "#### 4.3 Creating and checking variable 'Region'"
   ]
  },
  {
   "cell_type": "code",
   "execution_count": 56,
   "id": "aa31c0e1",
   "metadata": {},
   "outputs": [],
   "source": [
    "# Creating a variable 'Region' based on column 'Country'\n",
    "Africa = ['Libya','Algeria','Mauritius','Nigeria','Zambia','Somaliland','Morocco','Mozambique','Lesotho','Swaziland','Tunisia','South Africa','Ghana','Zimbabwe','Liberia','Sudan','Congo (Kinshasa)','Congo (Brazzaville)',\n",
    "'Ethiopia','Sierra Leone','Mauritania','Kenya','Djibouti','Botswana','Malawi','Cameroon','Egypt','Angola','Mali','Comoros','Uganda','Senegal','Gabon','Niger','Cambodia',\n",
    "'Tanzania','Madagascar','Central African Republic','Chad', 'Guinea','Ivory Coast','Burkina Faso','Rwanda','Benin','Burundi','Togo','Eswatini','Gambia','Namibia','Somalia']\n",
    "\n",
    "Asia = ['Israel','United Arab Emirates','Oman','Singapore','Qatar','Thailand','Saudi Arabia','Taiwan','Kuwait','Uzbekistan','Japan','South Korea','Bahrain','Kazakhstan','Malaysia','Russia','North Cyprus',\n",
    "'Turkmenistan','Hong Kong','Indonesia','Vietnam','Turkey','Kyrgyzstan','Bhutan','Azerbaijan','Pakistan','Jordan','China','Philippines','Laos','Mongolia','Lebanon','Tajikistan','Palestinian Territories',\n",
    "'Bangladesh','Iran','Iraq','India','Nepal','Armenia','Myanmar','Sri Lanka','Yemen','Afghanistan','Syria','Maldives']\n",
    "\n",
    "\n",
    "Europe = ['Switzerland','Iceland','Denmark','Norway','Finland','Netherlands','Sweden','Austria','Luxembourg','Ireland','Belgium','United Kingdom','Germany','France','Czech Republic','Spain',\n",
    "'Malta','Slovakia','Italy', 'Moldova','Slovenia','Lithuania','Belarus','Poland','Croatia','Cyprus','Kosovo','Estonia','Montenegro','Romania','Serbia','Portugal','Latvia','Macedonia','Albania',\n",
    "'Bosnia and Herzegovina','Greece','Hungary','Ukraine','Georgia','Bulgaria']\n",
    "\n",
    "North_America = ['Canada','Costa Rica','Mexico','United States','Panama','El Salvador','Guatemala','Jamaica','Dominican Republic','Honduras','Haiti','Belize','Puerto Rico']\n",
    "\n",
    "Oceania = ['New Zealand','Australia']\n",
    "\n",
    "South_America = ['Brazil','Venezuela','Chile','Argentina','Uruguay','Colombia','Suriname','Trinidad and Tobago','Ecuador','Bolivia','Paraguay','Nicaragua','Peru']"
   ]
  },
  {
   "cell_type": "code",
   "execution_count": 57,
   "id": "2c208923",
   "metadata": {
    "scrolled": true
   },
   "outputs": [],
   "source": [
    "#using np.select\n",
    "cond=[df_worhap['Country'].isin(Africa),df_worhap['Country'].isin(Asia),df_worhap['Country'].isin(Europe),df_worhap['Country'].isin(North_America),df_worhap['Country'].isin(Oceania),df_worhap['Country'].isin(South_America)]\n",
    "values=['Africa','Asia','Europa','North_America','Oceania','South_America']\n",
    "df_worhap['Region']=np.select(cond,values)"
   ]
  },
  {
   "cell_type": "code",
   "execution_count": 58,
   "id": "fa377464",
   "metadata": {},
   "outputs": [],
   "source": [
    "# Aligning columns positions\n",
    "df_worhap = df_worhap.reindex(['Country','Region','Year','Happiness_Rank', 'Happiness_Score', 'GDP_per_Capita',\n",
    " 'Social_support', 'Life_Expectancy', 'Freedom', 'Generosity', 'Corruption'], axis=1)"
   ]
  },
  {
   "cell_type": "code",
   "execution_count": 59,
   "id": "205f85a0",
   "metadata": {},
   "outputs": [
    {
     "data": {
      "text/html": [
       "<div>\n",
       "<style scoped>\n",
       "    .dataframe tbody tr th:only-of-type {\n",
       "        vertical-align: middle;\n",
       "    }\n",
       "\n",
       "    .dataframe tbody tr th {\n",
       "        vertical-align: top;\n",
       "    }\n",
       "\n",
       "    .dataframe thead th {\n",
       "        text-align: right;\n",
       "    }\n",
       "</style>\n",
       "<table border=\"1\" class=\"dataframe\">\n",
       "  <thead>\n",
       "    <tr style=\"text-align: right;\">\n",
       "      <th></th>\n",
       "      <th>Country</th>\n",
       "      <th>Region</th>\n",
       "      <th>Year</th>\n",
       "      <th>Happiness_Rank</th>\n",
       "      <th>Happiness_Score</th>\n",
       "      <th>GDP_per_Capita</th>\n",
       "      <th>Social_support</th>\n",
       "      <th>Life_Expectancy</th>\n",
       "      <th>Freedom</th>\n",
       "      <th>Generosity</th>\n",
       "      <th>Corruption</th>\n",
       "    </tr>\n",
       "  </thead>\n",
       "  <tbody>\n",
       "    <tr>\n",
       "      <th>1225</th>\n",
       "      <td>Botswana</td>\n",
       "      <td>Africa</td>\n",
       "      <td>2022</td>\n",
       "      <td>142</td>\n",
       "      <td>3.471</td>\n",
       "      <td>1.503</td>\n",
       "      <td>0.815</td>\n",
       "      <td>0.280</td>\n",
       "      <td>0.571</td>\n",
       "      <td>0.012</td>\n",
       "      <td>0.102</td>\n",
       "    </tr>\n",
       "    <tr>\n",
       "      <th>1226</th>\n",
       "      <td>Rwanda</td>\n",
       "      <td>Africa</td>\n",
       "      <td>2022</td>\n",
       "      <td>143</td>\n",
       "      <td>3.268</td>\n",
       "      <td>0.785</td>\n",
       "      <td>0.133</td>\n",
       "      <td>0.462</td>\n",
       "      <td>0.621</td>\n",
       "      <td>0.187</td>\n",
       "      <td>0.544</td>\n",
       "    </tr>\n",
       "    <tr>\n",
       "      <th>1227</th>\n",
       "      <td>Zimbabwe</td>\n",
       "      <td>Africa</td>\n",
       "      <td>2022</td>\n",
       "      <td>144</td>\n",
       "      <td>2.995</td>\n",
       "      <td>0.947</td>\n",
       "      <td>0.690</td>\n",
       "      <td>0.270</td>\n",
       "      <td>0.329</td>\n",
       "      <td>0.106</td>\n",
       "      <td>0.105</td>\n",
       "    </tr>\n",
       "    <tr>\n",
       "      <th>1228</th>\n",
       "      <td>Lebanon</td>\n",
       "      <td>Asia</td>\n",
       "      <td>2022</td>\n",
       "      <td>145</td>\n",
       "      <td>2.955</td>\n",
       "      <td>1.392</td>\n",
       "      <td>0.498</td>\n",
       "      <td>0.631</td>\n",
       "      <td>0.103</td>\n",
       "      <td>0.082</td>\n",
       "      <td>0.034</td>\n",
       "    </tr>\n",
       "    <tr>\n",
       "      <th>1229</th>\n",
       "      <td>Afghanistan</td>\n",
       "      <td>Asia</td>\n",
       "      <td>2022</td>\n",
       "      <td>146</td>\n",
       "      <td>2.404</td>\n",
       "      <td>0.758</td>\n",
       "      <td>0.000</td>\n",
       "      <td>0.289</td>\n",
       "      <td>0.000</td>\n",
       "      <td>0.089</td>\n",
       "      <td>0.005</td>\n",
       "    </tr>\n",
       "  </tbody>\n",
       "</table>\n",
       "</div>"
      ],
      "text/plain": [
       "          Country  Region  Year  Happiness_Rank  Happiness_Score  \\\n",
       "1225     Botswana  Africa  2022             142            3.471   \n",
       "1226       Rwanda  Africa  2022             143            3.268   \n",
       "1227     Zimbabwe  Africa  2022             144            2.995   \n",
       "1228      Lebanon    Asia  2022             145            2.955   \n",
       "1229  Afghanistan    Asia  2022             146            2.404   \n",
       "\n",
       "      GDP_per_Capita  Social_support  Life_Expectancy  Freedom  Generosity  \\\n",
       "1225           1.503           0.815            0.280    0.571       0.012   \n",
       "1226           0.785           0.133            0.462    0.621       0.187   \n",
       "1227           0.947           0.690            0.270    0.329       0.106   \n",
       "1228           1.392           0.498            0.631    0.103       0.082   \n",
       "1229           0.758           0.000            0.289    0.000       0.089   \n",
       "\n",
       "      Corruption  \n",
       "1225       0.102  \n",
       "1226       0.544  \n",
       "1227       0.105  \n",
       "1228       0.034  \n",
       "1229       0.005  "
      ]
     },
     "execution_count": 59,
     "metadata": {},
     "output_type": "execute_result"
    }
   ],
   "source": [
    "df_worhap.tail()"
   ]
  },
  {
   "cell_type": "code",
   "execution_count": 60,
   "id": "8c745c1b",
   "metadata": {},
   "outputs": [
    {
     "name": "stdout",
     "output_type": "stream",
     "text": [
      "['Europa' 'North_America' 'Oceania' 'Asia' 'South_America' 'Africa']\n"
     ]
    }
   ],
   "source": [
    "# Checking unique values of the new column 'region'\n",
    "print(df_worhap['Region'].unique())"
   ]
  },
  {
   "cell_type": "markdown",
   "id": "5db5c7ec",
   "metadata": {},
   "source": [
    "#### 4.4 Checking consistency of the data"
   ]
  },
  {
   "cell_type": "code",
   "execution_count": 61,
   "id": "2ead20e4",
   "metadata": {},
   "outputs": [
    {
     "data": {
      "text/html": [
       "<div>\n",
       "<style scoped>\n",
       "    .dataframe tbody tr th:only-of-type {\n",
       "        vertical-align: middle;\n",
       "    }\n",
       "\n",
       "    .dataframe tbody tr th {\n",
       "        vertical-align: top;\n",
       "    }\n",
       "\n",
       "    .dataframe thead th {\n",
       "        text-align: right;\n",
       "    }\n",
       "</style>\n",
       "<table border=\"1\" class=\"dataframe\">\n",
       "  <thead>\n",
       "    <tr style=\"text-align: right;\">\n",
       "      <th></th>\n",
       "      <th>Year</th>\n",
       "      <th>Happiness_Rank</th>\n",
       "      <th>Happiness_Score</th>\n",
       "      <th>GDP_per_Capita</th>\n",
       "      <th>Social_support</th>\n",
       "      <th>Life_Expectancy</th>\n",
       "      <th>Freedom</th>\n",
       "      <th>Generosity</th>\n",
       "      <th>Corruption</th>\n",
       "    </tr>\n",
       "  </thead>\n",
       "  <tbody>\n",
       "    <tr>\n",
       "      <th>count</th>\n",
       "      <td>1230.000000</td>\n",
       "      <td>1230.000000</td>\n",
       "      <td>1230.000000</td>\n",
       "      <td>1230.000000</td>\n",
       "      <td>1230.000000</td>\n",
       "      <td>1230.000000</td>\n",
       "      <td>1230.000000</td>\n",
       "      <td>1230.000000</td>\n",
       "      <td>1229.000000</td>\n",
       "    </tr>\n",
       "    <tr>\n",
       "      <th>mean</th>\n",
       "      <td>2018.447154</td>\n",
       "      <td>77.421951</td>\n",
       "      <td>5.430092</td>\n",
       "      <td>0.976255</td>\n",
       "      <td>1.032984</td>\n",
       "      <td>0.608132</td>\n",
       "      <td>0.440833</td>\n",
       "      <td>0.201583</td>\n",
       "      <td>0.130756</td>\n",
       "    </tr>\n",
       "    <tr>\n",
       "      <th>std</th>\n",
       "      <td>2.282716</td>\n",
       "      <td>44.486273</td>\n",
       "      <td>1.115361</td>\n",
       "      <td>0.435247</td>\n",
       "      <td>0.329526</td>\n",
       "      <td>0.241249</td>\n",
       "      <td>0.154415</td>\n",
       "      <td>0.115522</td>\n",
       "      <td>0.110818</td>\n",
       "    </tr>\n",
       "    <tr>\n",
       "      <th>min</th>\n",
       "      <td>2015.000000</td>\n",
       "      <td>1.000000</td>\n",
       "      <td>2.404000</td>\n",
       "      <td>0.000000</td>\n",
       "      <td>0.000000</td>\n",
       "      <td>0.000000</td>\n",
       "      <td>0.000000</td>\n",
       "      <td>0.000000</td>\n",
       "      <td>0.000000</td>\n",
       "    </tr>\n",
       "    <tr>\n",
       "      <th>25%</th>\n",
       "      <td>2016.000000</td>\n",
       "      <td>39.000000</td>\n",
       "      <td>4.584500</td>\n",
       "      <td>0.668250</td>\n",
       "      <td>0.824771</td>\n",
       "      <td>0.439250</td>\n",
       "      <td>0.344250</td>\n",
       "      <td>0.118000</td>\n",
       "      <td>0.056000</td>\n",
       "    </tr>\n",
       "    <tr>\n",
       "      <th>50%</th>\n",
       "      <td>2018.000000</td>\n",
       "      <td>77.000000</td>\n",
       "      <td>5.410500</td>\n",
       "      <td>1.013580</td>\n",
       "      <td>1.069168</td>\n",
       "      <td>0.639427</td>\n",
       "      <td>0.458135</td>\n",
       "      <td>0.186984</td>\n",
       "      <td>0.096000</td>\n",
       "    </tr>\n",
       "    <tr>\n",
       "      <th>75%</th>\n",
       "      <td>2020.000000</td>\n",
       "      <td>116.000000</td>\n",
       "      <td>6.226225</td>\n",
       "      <td>1.295961</td>\n",
       "      <td>1.273395</td>\n",
       "      <td>0.790795</td>\n",
       "      <td>0.559000</td>\n",
       "      <td>0.258494</td>\n",
       "      <td>0.164000</td>\n",
       "    </tr>\n",
       "    <tr>\n",
       "      <th>max</th>\n",
       "      <td>2022.000000</td>\n",
       "      <td>158.000000</td>\n",
       "      <td>7.842000</td>\n",
       "      <td>2.209000</td>\n",
       "      <td>1.644000</td>\n",
       "      <td>1.141000</td>\n",
       "      <td>0.740000</td>\n",
       "      <td>0.838075</td>\n",
       "      <td>0.587000</td>\n",
       "    </tr>\n",
       "  </tbody>\n",
       "</table>\n",
       "</div>"
      ],
      "text/plain": [
       "              Year  Happiness_Rank  Happiness_Score  GDP_per_Capita  \\\n",
       "count  1230.000000     1230.000000      1230.000000     1230.000000   \n",
       "mean   2018.447154       77.421951         5.430092        0.976255   \n",
       "std       2.282716       44.486273         1.115361        0.435247   \n",
       "min    2015.000000        1.000000         2.404000        0.000000   \n",
       "25%    2016.000000       39.000000         4.584500        0.668250   \n",
       "50%    2018.000000       77.000000         5.410500        1.013580   \n",
       "75%    2020.000000      116.000000         6.226225        1.295961   \n",
       "max    2022.000000      158.000000         7.842000        2.209000   \n",
       "\n",
       "       Social_support  Life_Expectancy      Freedom   Generosity   Corruption  \n",
       "count     1230.000000      1230.000000  1230.000000  1230.000000  1229.000000  \n",
       "mean         1.032984         0.608132     0.440833     0.201583     0.130756  \n",
       "std          0.329526         0.241249     0.154415     0.115522     0.110818  \n",
       "min          0.000000         0.000000     0.000000     0.000000     0.000000  \n",
       "25%          0.824771         0.439250     0.344250     0.118000     0.056000  \n",
       "50%          1.069168         0.639427     0.458135     0.186984     0.096000  \n",
       "75%          1.273395         0.790795     0.559000     0.258494     0.164000  \n",
       "max          1.644000         1.141000     0.740000     0.838075     0.587000  "
      ]
     },
     "execution_count": 61,
     "metadata": {},
     "output_type": "execute_result"
    }
   ],
   "source": [
    "df_worhap.describe()"
   ]
  },
  {
   "cell_type": "markdown",
   "id": "ced6d885",
   "metadata": {},
   "source": [
    "#### Remove Duplicates"
   ]
  },
  {
   "cell_type": "code",
   "execution_count": 62,
   "id": "7733a423",
   "metadata": {},
   "outputs": [],
   "source": [
    "# Remove duplicates\n",
    "df_worhap.drop_duplicates(inplace=True)"
   ]
  },
  {
   "cell_type": "markdown",
   "id": "4f80913e",
   "metadata": {},
   "source": [
    "No duplicates were found"
   ]
  },
  {
   "cell_type": "markdown",
   "id": "50074c15",
   "metadata": {},
   "source": [
    "#### Checking for Mix-Data"
   ]
  },
  {
   "cell_type": "code",
   "execution_count": 63,
   "id": "404d22c6",
   "metadata": {},
   "outputs": [],
   "source": [
    "# check for mixed types (using test code)\n",
    "for col in df_worhap.columns.tolist():\n",
    "  weird = (df_worhap[[col]].applymap(type) != df_worhap[[col]].iloc[0].apply(type)).any(axis = 1)\n",
    "  if len (df_worhap[weird]) > 0:\n",
    "    print (col)"
   ]
  },
  {
   "cell_type": "markdown",
   "id": "97169c36",
   "metadata": {},
   "source": [
    "There is not mix-data in the dataset"
   ]
  },
  {
   "cell_type": "markdown",
   "id": "f2c82f19",
   "metadata": {},
   "source": [
    "#### Addresing Missing Values"
   ]
  },
  {
   "cell_type": "code",
   "execution_count": 68,
   "id": "b26f1989",
   "metadata": {
    "scrolled": false
   },
   "outputs": [
    {
     "data": {
      "text/plain": [
       "Country            0\n",
       "Region             0\n",
       "Year               0\n",
       "Happiness_Rank     0\n",
       "Happiness_Score    0\n",
       "GDP_per_Capita     0\n",
       "Social_support     0\n",
       "Life_Expectancy    0\n",
       "Freedom            0\n",
       "Generosity         0\n",
       "Corruption         0\n",
       "dtype: int64"
      ]
     },
     "execution_count": 68,
     "metadata": {},
     "output_type": "execute_result"
    }
   ],
   "source": [
    "# check for missing data \n",
    "df_worhap.isnull().sum()"
   ]
  },
  {
   "cell_type": "code",
   "execution_count": 65,
   "id": "9703ab86",
   "metadata": {},
   "outputs": [],
   "source": [
    "# Replacing missing values with NaN\n",
    "df_worhap.fillna('NaN', inplace=True)"
   ]
  },
  {
   "cell_type": "code",
   "execution_count": 66,
   "id": "a4d4f74b",
   "metadata": {},
   "outputs": [
    {
     "data": {
      "text/plain": [
       "(1230, 11)"
      ]
     },
     "execution_count": 66,
     "metadata": {},
     "output_type": "execute_result"
    }
   ],
   "source": [
    "df_worhap.shape"
   ]
  },
  {
   "cell_type": "markdown",
   "id": "db9e87d2",
   "metadata": {},
   "source": [
    "### 5. Exporting data for World Happiness Report"
   ]
  },
  {
   "cell_type": "code",
   "execution_count": 67,
   "id": "89ca3f68",
   "metadata": {},
   "outputs": [],
   "source": [
    "# Exporting the df_worhap\n",
    "df_worhap.to_csv(os.path.join(path, '02 Data','Prepared Data', 'World_Happiness_2015-2022.csv'), index=False)"
   ]
  }
 ],
 "metadata": {
  "kernelspec": {
   "display_name": "Python 3 (ipykernel)",
   "language": "python",
   "name": "python3"
  },
  "language_info": {
   "codemirror_mode": {
    "name": "ipython",
    "version": 3
   },
   "file_extension": ".py",
   "mimetype": "text/x-python",
   "name": "python",
   "nbconvert_exporter": "python",
   "pygments_lexer": "ipython3",
   "version": "3.9.13"
  }
 },
 "nbformat": 4,
 "nbformat_minor": 5
}
